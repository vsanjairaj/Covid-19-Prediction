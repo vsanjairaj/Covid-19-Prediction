{
 "cells": [
  {
   "cell_type": "code",
   "execution_count": null,
   "metadata": {},
   "outputs": [],
   "source": [
    "#Now we are trying compute gap statistic to find out the exact number of clusters\n",
    "def optimalK(data, nrefs=3,maxClusters=60):\n",
    "    #nrefs: No of reference datasets to create\n",
    "    range_clus = range(1,maxClusters)\n",
    "    gaps = np.zeros(len(range_clus),order='C')\n",
    "    d = {'clusterCount':[],'gap':[]}\n",
    "    \n",
    "    resultsdf = pd.DataFrame(data=d)\n",
    "    for gap_index, k in enumerate(range(1,maxClusters)):\n",
    "        \n",
    "        refDisps = np.zeros(nrefs)\n",
    "        \n",
    "        for i in range(nrefs):\n",
    "            \n",
    "            #Creating reference data set\n",
    "            randomReference = np.random.random_sample(size=data.shape)\n",
    "            \n",
    "            #Now let's fit\n",
    "            km = KMeans(k)\n",
    "            \n",
    "            km.fit(randomReference)\n",
    "            \n",
    "            refDisp = km.inertia_\n",
    "            refDisps[i] = refDisp\n",
    "            \n",
    "            #now let's fit the cluster to orginal data and create dispersion\n",
    "            km=KMeans(k)\n",
    "            km.fit(data)\n",
    "            \n",
    "            origDisp = km.inertia_\n",
    "            \n",
    "            \n",
    "            #calculating gap statistic\n",
    "            gap = np.log(np.mean(refDisps)) - np.log(origDisp)\n",
    "            \n",
    "            \n",
    "            #Assigning this gap statistic to gaps\n",
    "            gaps[gap_index] = gap\n",
    "            \n",
    "            resultsdf = resultsdf.append({'clusterCount':k,'gap':gap},ignore_index=True)\n",
    "            \n",
    "            return(gaps.argmax() + 1, resultsdf) #Because index =0 means optimal cluster is 1 and so forth.\n",
    "        "
   ]
  }
 ],
 "metadata": {
  "kernelspec": {
   "display_name": "Python 3",
   "language": "python",
   "name": "python3"
  },
  "language_info": {
   "codemirror_mode": {
    "name": "ipython",
    "version": 3
   },
   "file_extension": ".py",
   "mimetype": "text/x-python",
   "name": "python",
   "nbconvert_exporter": "python",
   "pygments_lexer": "ipython3",
   "version": "3.7.7"
  }
 },
 "nbformat": 4,
 "nbformat_minor": 4
}
